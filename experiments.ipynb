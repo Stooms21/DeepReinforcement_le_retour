{
 "cells": [
  {
   "metadata": {},
   "cell_type": "markdown",
   "source": "# Deep Reinforcement Learning Project",
   "id": "e071eb5250005bb8"
  },
  {
   "metadata": {},
   "cell_type": "markdown",
   "source": "Ce notebook a pour but d'appeler les différents algorithmes de renforcement profond sur les différents environnements que nous avons implémentés.",
   "id": "b8e07026866a5ea6"
  },
  {
   "metadata": {},
   "cell_type": "markdown",
   "source": "## Tests tensorflow GPU",
   "id": "c7b383ce2d0bba61"
  },
  {
   "cell_type": "code",
   "id": "initial_id",
   "metadata": {
    "collapsed": true,
    "ExecuteTime": {
     "end_time": "2024-10-01T21:23:37.408204Z",
     "start_time": "2024-10-01T21:23:37.143214Z"
    }
   },
   "source": [
    "import torch\n",
    "\n",
    "# Vérifier si CUDA est disponible\n",
    "if torch.cuda.is_available():\n",
    "    print(\"CUDA est disponible ! PyTorch peut utiliser le GPU.\")\n",
    "    print(f\"Nom du GPU : {torch.cuda.get_device_name(0)}\")\n",
    "    print(f\"Nombre de GPUs disponibles : {torch.cuda.device_count()}\")\n",
    "    print(f\"Version de CUDA : {torch.version.cuda}\")\n",
    "    \n",
    "    # Créer un tenseur sur le GPU\n",
    "    x = torch.randn(3, 3)\n",
    "    x_gpu = x.to('cuda')\n",
    "    \n",
    "    print(f\"Tenseur sur CPU :\\n{x}\")\n",
    "    print(f\"Tenseur transféré sur GPU :\\n{x_gpu}\")\n",
    "else:\n",
    "    print(\"CUDA n'est pas disponible. PyTorch utilise le CPU.\")"
   ],
   "outputs": [
    {
     "name": "stdout",
     "output_type": "stream",
     "text": [
      "CUDA est disponible ! PyTorch peut utiliser le GPU.\n",
      "Nom du GPU : NVIDIA GeForce RTX 4060 Laptop GPU\n",
      "Nombre de GPUs disponibles : 1\n",
      "Version de CUDA : 12.1\n",
      "Tenseur sur CPU :\n",
      "tensor([[ 0.7338, -0.6763, -1.8340],\n",
      "        [-0.8887, -0.3750, -1.9033],\n",
      "        [ 1.5428, -1.3569, -0.3131]])\n",
      "Tenseur transféré sur GPU :\n",
      "tensor([[ 0.7338, -0.6763, -1.8340],\n",
      "        [-0.8887, -0.3750, -1.9033],\n",
      "        [ 1.5428, -1.3569, -0.3131]], device='cuda:0')\n"
     ]
    }
   ],
   "execution_count": 2
  },
  {
   "metadata": {
    "ExecuteTime": {
     "end_time": "2024-10-01T21:23:30.592543Z",
     "start_time": "2024-10-01T21:23:29.645824Z"
    }
   },
   "cell_type": "code",
   "source": [
    "import torch\n",
    "print(torch.version.cuda)\n"
   ],
   "id": "245f4b03152f5146",
   "outputs": [
    {
     "name": "stdout",
     "output_type": "stream",
     "text": [
      "12.1\n"
     ]
    }
   ],
   "execution_count": 1
  }
 ],
 "metadata": {
  "kernelspec": {
   "display_name": "Python 3",
   "language": "python",
   "name": "python3"
  },
  "language_info": {
   "codemirror_mode": {
    "name": "ipython",
    "version": 2
   },
   "file_extension": ".py",
   "mimetype": "text/x-python",
   "name": "python",
   "nbconvert_exporter": "python",
   "pygments_lexer": "ipython2",
   "version": "2.7.6"
  }
 },
 "nbformat": 4,
 "nbformat_minor": 5
}
