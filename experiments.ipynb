{
 "cells": [
  {
   "metadata": {},
   "cell_type": "markdown",
   "source": "# Deep Reinforcement Learning Project",
   "id": "e071eb5250005bb8"
  },
  {
   "metadata": {},
   "cell_type": "markdown",
   "source": "Ce notebook a pour but d'appeler les différents algorithmes de renforcement profond sur les différents environnements que nous avons implémentés.",
   "id": "b8e07026866a5ea6"
  },
  {
   "metadata": {},
   "cell_type": "markdown",
   "source": "## Tests tensorflow GPU",
   "id": "c7b383ce2d0bba61"
  },
  {
   "cell_type": "code",
   "id": "initial_id",
   "metadata": {
    "collapsed": true,
    "ExecuteTime": {
     "end_time": "2024-09-28T08:19:39.826222Z",
     "start_time": "2024-09-28T08:19:39.822005Z"
    }
   },
   "source": [
    "import torch\n",
    "\n",
    "# Vérifier si CUDA est disponible\n",
    "if torch.cuda.is_available():\n",
    "    print(\"CUDA est disponible ! PyTorch peut utiliser le GPU.\")\n",
    "    print(f\"Nom du GPU : {torch.cuda.get_device_name(0)}\")\n",
    "    print(f\"Nombre de GPUs disponibles : {torch.cuda.device_count()}\")\n",
    "    print(f\"Version de CUDA : {torch.version.cuda}\")\n",
    "    \n",
    "    # Créer un tenseur sur le GPU\n",
    "    x = torch.randn(3, 3)\n",
    "    x_gpu = x.to('cuda')\n",
    "    \n",
    "    print(f\"Tenseur sur CPU :\\n{x}\")\n",
    "    print(f\"Tenseur transféré sur GPU :\\n{x_gpu}\")\n",
    "else:\n",
    "    print(\"CUDA n'est pas disponible. PyTorch utilise le CPU.\")"
   ],
   "outputs": [
    {
     "name": "stdout",
     "output_type": "stream",
     "text": [
      "CUDA n'est pas disponible. PyTorch utilise le CPU.\n"
     ]
    }
   ],
   "execution_count": 4
  },
  {
   "metadata": {
    "ExecuteTime": {
     "end_time": "2024-09-28T08:29:36.833298Z",
     "start_time": "2024-09-28T08:29:36.830288Z"
    }
   },
   "cell_type": "code",
   "source": [
    "import torch\n",
    "print(torch.version.cuda)\n"
   ],
   "id": "245f4b03152f5146",
   "outputs": [
    {
     "name": "stdout",
     "output_type": "stream",
     "text": [
      "None\n"
     ]
    }
   ],
   "execution_count": 6
  }
 ],
 "metadata": {
  "kernelspec": {
   "display_name": "Python 3",
   "language": "python",
   "name": "python3"
  },
  "language_info": {
   "codemirror_mode": {
    "name": "ipython",
    "version": 2
   },
   "file_extension": ".py",
   "mimetype": "text/x-python",
   "name": "python",
   "nbconvert_exporter": "python",
   "pygments_lexer": "ipython2",
   "version": "2.7.6"
  }
 },
 "nbformat": 4,
 "nbformat_minor": 5
}
