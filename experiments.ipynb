{
 "cells": [
  {
   "metadata": {},
   "cell_type": "markdown",
   "source": "# Deep Reinforcement Learning Project",
   "id": "e071eb5250005bb8"
  },
  {
   "metadata": {},
   "cell_type": "markdown",
   "source": "Ce notebook a pour but d'appeler les différents algorithmes de renforcement profond sur les différents environnements que nous avons implémentés.",
   "id": "b8e07026866a5ea6"
  },
  {
   "metadata": {},
   "cell_type": "markdown",
   "source": "",
   "id": "c7b383ce2d0bba61"
  },
  {
   "cell_type": "code",
   "execution_count": null,
   "id": "initial_id",
   "metadata": {
    "collapsed": true
   },
   "outputs": [],
   "source": [
    ""
   ]
  }
 ],
 "metadata": {
  "kernelspec": {
   "display_name": "Python 3",
   "language": "python",
   "name": "python3"
  },
  "language_info": {
   "codemirror_mode": {
    "name": "ipython",
    "version": 2
   },
   "file_extension": ".py",
   "mimetype": "text/x-python",
   "name": "python",
   "nbconvert_exporter": "python",
   "pygments_lexer": "ipython2",
   "version": "2.7.6"
  }
 },
 "nbformat": 4,
 "nbformat_minor": 5
}
